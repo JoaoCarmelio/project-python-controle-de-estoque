{
  "nbformat": 4,
  "nbformat_minor": 0,
  "metadata": {
    "colab": {
      "provenance": [],
      "authorship_tag": "ABX9TyOSzot8O7hXm8Tk+vIIICgJ",
      "include_colab_link": true
    },
    "kernelspec": {
      "name": "python3",
      "display_name": "Python 3"
    },
    "language_info": {
      "name": "python"
    }
  },
  "cells": [
    {
      "cell_type": "markdown",
      "metadata": {
        "id": "view-in-github",
        "colab_type": "text"
      },
      "source": [
        "<a href=\"https://colab.research.google.com/github/JoaoCarmelio/project-python-controle-de-estoque/blob/main/untitled11.ipynb\" target=\"_parent\"><img src=\"https://colab.research.google.com/assets/colab-badge.svg\" alt=\"Open In Colab\"/></a>"
      ]
    },
    {
      "cell_type": "markdown",
      "source": [],
      "metadata": {
        "id": "XPgInKG-5pN-"
      }
    },
    {
      "cell_type": "code",
      "source": [
        "import pandas as pd\n",
        "\n",
        "\n",
        "produtos = [\n",
        "    {\n",
        "        \"codigo\": \"001\",\n",
        "        \"nome\": \"arroz\",\n",
        "        \"quantidade\": 10,\n",
        "        \"preco_unidade\": 20.0\n",
        "    },\n",
        "    {\n",
        "        \"codigo\": \"002\",\n",
        "        \"nome\": \"feijao\",\n",
        "        \"quantidade\": 5,\n",
        "        \"preco_unidade\": 6.0\n",
        "    }\n",
        "]\n",
        "\n",
        "vendas = [\n",
        "    {\n",
        "        \"codigo\": \"001\",\n",
        "        \"nome\": \"arroz\",\n",
        "        \"quantidade\": 2,\n",
        "        \"preco_unitario\": 6.0,\n",
        "        \"total\": 40.0\n",
        "    }\n",
        "]\n",
        "\n",
        "def cadastro_produto():\n",
        "    codigo = input(\"Digite o código do produto: \")\n",
        "    nome = input(\"Digite o nome do produto: \")\n",
        "\n",
        "    while True:\n",
        "        try:\n",
        "            quantidade = int(input(\"Digite a quantidade em estoque: \"))\n",
        "            if quantidade < 0:\n",
        "                print(\"Quantidade não pode ser negativa.\")\n",
        "                continue\n",
        "            break\n",
        "        except ValueError:\n",
        "             print(\"Quantidade inválida. Deve ser um número.\")\n",
        "\n",
        "    while True:\n",
        "        try:\n",
        "            if float(input(\"Digite o preço por unidade: \")) < 0:\n",
        "                print(\"Preço não pode ser negativo.\")\n",
        "                continue\n",
        "            break\n",
        "        except ValueError:\n",
        "            print(\"Preço inválido. Deve ser um número.\")\n",
        "\n",
        "    # Adicionar produtos\n",
        "    produtos.append({\n",
        "        \"nome\": nome,\n",
        "        \"codigo\": codigo,\n",
        "        \"quantidade\": quantidade,\n",
        "        \"preco_unidade\": float(input(\"Digite o preço por unidade: \"))\n",
        "    })\n",
        "\n",
        "    print(\"Produto cadastrado com sucesso!\")\n",
        "\n",
        "def registrar_vendas():\n",
        "    codigo = input(\"Digite o código do produto: \")\n",
        "    for produto in produtos:\n",
        "        if produto['codigo'] == codigo:\n",
        "            while True:\n",
        "                try:\n",
        "                    quantidade_vendida = int(input(\"Digite a quantidade vendida: \"))\n",
        "                    if quantidade_vendida <= 0 or quantidade_vendida > produto['quantidade']:\n",
        "                        print(\"Quantidade inválida. Deve ser um número positivo e menor ou igual à quantidade em estoque.\")\n",
        "                        continue\n",
        "                    break\n",
        "                except ValueError:\n",
        "                    print(\"Quantidade inválida. Deve ser um número.\")\n",
        "            produto['quantidade'] -= quantidade_vendida\n",
        "            vendas.append({\n",
        "                'codigo': codigo,\n",
        "                'nome': produto['nome'],\n",
        "                'quantidade': quantidade_vendida,\n",
        "                'preco_unitario': produto['preco_unidade'],\n",
        "                'total': quantidade_vendida * produto['preco_unidade']\n",
        "            })\n",
        "            print(\"Venda registrada com sucesso!\")\n",
        "            return\n",
        "    print(\"Produto não encontrado!\")\n",
        "\n",
        "def relatorio_vendas():\n",
        "    df = pd.DataFrame(vendas)\n",
        "    df.to_csv('relatorio_vendas.csv', index=False)\n",
        "    print(\"Relatório de vendas gerado com sucesso! (relatorio_vendas.csv)\")\n",
        "\n",
        "def relatorio_estoque():\n",
        "    with open('relatorio_estoque.txt', 'w') as f:\n",
        "        for produto in produtos:\n",
        "            f.write(f\"Código: {produto['codigo']}, Nome: {produto['nome']}, Quantidade: {produto['quantidade']}\\n\")\n",
        "    print(\"Relatório de estoque gerado com sucesso! (relatorio_estoque.txt)\")\n",
        "\n",
        "def main():\n",
        "    while True:\n",
        "        print(\"\\nSistema Interativo\\n\")\n",
        "        print(\"Escolha uma opção:\")\n",
        "        print(\"1. Cadastrar Produtos\")\n",
        "        print(\"2. Registrar Vendas\")\n",
        "        print(\"3. Relatório de Vendas (geração de arquivo CSV)\")\n",
        "        print(\"4. Relatório de Estoque (geração de arquivo de texto)\")\n",
        "        print(\"5. Sair\")\n",
        "\n",
        "        op = input(\"Digite a opção: \")\n",
        "\n",
        "        if op == \"1\":\n",
        "            cadastro_produto()\n",
        "        elif op == \"2\":\n",
        "            registrar_vendas()\n",
        "        elif op == \"3\":\n",
        "            relatorio_vendas()\n",
        "        elif op == \"4\":\n",
        "            relatorio_estoque()\n",
        "        elif op == \"5\":\n",
        "            print(\"Saindo...\")\n",
        "            break\n",
        "        else:\n",
        "            print(\"Opção errada\")\n",
        "\n",
        "if __name__ == \"__main__\":\n",
        "    main()\n"
      ],
      "metadata": {
        "colab": {
          "base_uri": "https://localhost:8080/",
          "height": 530
        },
        "id": "UUj0MedT5n7_",
        "outputId": "52ce4193-74a1-42c8-be7d-17ed9dcc6133"
      },
      "execution_count": null,
      "outputs": [
        {
          "name": "stdout",
          "output_type": "stream",
          "text": [
            "\n",
            "Sistema Interativo\n",
            "\n",
            "Escolha uma opção:\n",
            "1. Cadastrar Produtos\n",
            "2. Registrar Vendas\n",
            "3. Relatório de Vendas (geração de arquivo CSV)\n",
            "4. Relatório de Estoque (geração de arquivo de texto)\n",
            "5. Sair\n",
            "Digite a opção: 1\n"
          ]
        },
        {
          "output_type": "error",
          "ename": "KeyboardInterrupt",
          "evalue": "Interrupted by user",
          "traceback": [
            "\u001b[0;31m---------------------------------------------------------------------------\u001b[0m",
            "\u001b[0;31mKeyboardInterrupt\u001b[0m                         Traceback (most recent call last)",
            "\u001b[0;32m<ipython-input-6-896dcb527867>\u001b[0m in \u001b[0;36m<cell line: 124>\u001b[0;34m()\u001b[0m\n\u001b[1;32m    123\u001b[0m \u001b[0;34m\u001b[0m\u001b[0m\n\u001b[1;32m    124\u001b[0m \u001b[0;32mif\u001b[0m \u001b[0m__name__\u001b[0m \u001b[0;34m==\u001b[0m \u001b[0;34m\"__main__\"\u001b[0m\u001b[0;34m:\u001b[0m\u001b[0;34m\u001b[0m\u001b[0;34m\u001b[0m\u001b[0m\n\u001b[0;32m--> 125\u001b[0;31m     \u001b[0mmain\u001b[0m\u001b[0;34m(\u001b[0m\u001b[0;34m)\u001b[0m\u001b[0;34m\u001b[0m\u001b[0;34m\u001b[0m\u001b[0m\n\u001b[0m",
            "\u001b[0;32m<ipython-input-6-896dcb527867>\u001b[0m in \u001b[0;36mmain\u001b[0;34m()\u001b[0m\n\u001b[1;32m    109\u001b[0m \u001b[0;34m\u001b[0m\u001b[0m\n\u001b[1;32m    110\u001b[0m         \u001b[0;32mif\u001b[0m \u001b[0mop\u001b[0m \u001b[0;34m==\u001b[0m \u001b[0;34m\"1\"\u001b[0m\u001b[0;34m:\u001b[0m\u001b[0;34m\u001b[0m\u001b[0;34m\u001b[0m\u001b[0m\n\u001b[0;32m--> 111\u001b[0;31m             \u001b[0mcadastro_produto\u001b[0m\u001b[0;34m(\u001b[0m\u001b[0;34m)\u001b[0m\u001b[0;34m\u001b[0m\u001b[0;34m\u001b[0m\u001b[0m\n\u001b[0m\u001b[1;32m    112\u001b[0m         \u001b[0;32melif\u001b[0m \u001b[0mop\u001b[0m \u001b[0;34m==\u001b[0m \u001b[0;34m\"2\"\u001b[0m\u001b[0;34m:\u001b[0m\u001b[0;34m\u001b[0m\u001b[0;34m\u001b[0m\u001b[0m\n\u001b[1;32m    113\u001b[0m             \u001b[0mregistrar_vendas\u001b[0m\u001b[0;34m(\u001b[0m\u001b[0;34m)\u001b[0m\u001b[0;34m\u001b[0m\u001b[0;34m\u001b[0m\u001b[0m\n",
            "\u001b[0;32m<ipython-input-6-896dcb527867>\u001b[0m in \u001b[0;36mcadastro_produto\u001b[0;34m()\u001b[0m\n\u001b[1;32m     28\u001b[0m \u001b[0;34m\u001b[0m\u001b[0m\n\u001b[1;32m     29\u001b[0m \u001b[0;32mdef\u001b[0m \u001b[0mcadastro_produto\u001b[0m\u001b[0;34m(\u001b[0m\u001b[0;34m)\u001b[0m\u001b[0;34m:\u001b[0m\u001b[0;34m\u001b[0m\u001b[0;34m\u001b[0m\u001b[0m\n\u001b[0;32m---> 30\u001b[0;31m     \u001b[0mcodigo\u001b[0m \u001b[0;34m=\u001b[0m \u001b[0minput\u001b[0m\u001b[0;34m(\u001b[0m\u001b[0;34m\"Digite o código do produto: \"\u001b[0m\u001b[0;34m)\u001b[0m\u001b[0;34m\u001b[0m\u001b[0;34m\u001b[0m\u001b[0m\n\u001b[0m\u001b[1;32m     31\u001b[0m     \u001b[0mnome\u001b[0m \u001b[0;34m=\u001b[0m \u001b[0minput\u001b[0m\u001b[0;34m(\u001b[0m\u001b[0;34m\"Digite o nome do produto: \"\u001b[0m\u001b[0;34m)\u001b[0m\u001b[0;34m\u001b[0m\u001b[0;34m\u001b[0m\u001b[0m\n\u001b[1;32m     32\u001b[0m \u001b[0;34m\u001b[0m\u001b[0m\n",
            "\u001b[0;32m/usr/local/lib/python3.10/dist-packages/ipykernel/kernelbase.py\u001b[0m in \u001b[0;36mraw_input\u001b[0;34m(self, prompt)\u001b[0m\n\u001b[1;32m    849\u001b[0m                 \u001b[0;34m\"raw_input was called, but this frontend does not support input requests.\"\u001b[0m\u001b[0;34m\u001b[0m\u001b[0;34m\u001b[0m\u001b[0m\n\u001b[1;32m    850\u001b[0m             )\n\u001b[0;32m--> 851\u001b[0;31m         return self._input_request(str(prompt),\n\u001b[0m\u001b[1;32m    852\u001b[0m             \u001b[0mself\u001b[0m\u001b[0;34m.\u001b[0m\u001b[0m_parent_ident\u001b[0m\u001b[0;34m,\u001b[0m\u001b[0;34m\u001b[0m\u001b[0;34m\u001b[0m\u001b[0m\n\u001b[1;32m    853\u001b[0m             \u001b[0mself\u001b[0m\u001b[0;34m.\u001b[0m\u001b[0m_parent_header\u001b[0m\u001b[0;34m,\u001b[0m\u001b[0;34m\u001b[0m\u001b[0;34m\u001b[0m\u001b[0m\n",
            "\u001b[0;32m/usr/local/lib/python3.10/dist-packages/ipykernel/kernelbase.py\u001b[0m in \u001b[0;36m_input_request\u001b[0;34m(self, prompt, ident, parent, password)\u001b[0m\n\u001b[1;32m    893\u001b[0m             \u001b[0;32mexcept\u001b[0m \u001b[0mKeyboardInterrupt\u001b[0m\u001b[0;34m:\u001b[0m\u001b[0;34m\u001b[0m\u001b[0;34m\u001b[0m\u001b[0m\n\u001b[1;32m    894\u001b[0m                 \u001b[0;31m# re-raise KeyboardInterrupt, to truncate traceback\u001b[0m\u001b[0;34m\u001b[0m\u001b[0;34m\u001b[0m\u001b[0m\n\u001b[0;32m--> 895\u001b[0;31m                 \u001b[0;32mraise\u001b[0m \u001b[0mKeyboardInterrupt\u001b[0m\u001b[0;34m(\u001b[0m\u001b[0;34m\"Interrupted by user\"\u001b[0m\u001b[0;34m)\u001b[0m \u001b[0;32mfrom\u001b[0m \u001b[0;32mNone\u001b[0m\u001b[0;34m\u001b[0m\u001b[0;34m\u001b[0m\u001b[0m\n\u001b[0m\u001b[1;32m    896\u001b[0m             \u001b[0;32mexcept\u001b[0m \u001b[0mException\u001b[0m \u001b[0;32mas\u001b[0m \u001b[0me\u001b[0m\u001b[0;34m:\u001b[0m\u001b[0;34m\u001b[0m\u001b[0;34m\u001b[0m\u001b[0m\n\u001b[1;32m    897\u001b[0m                 \u001b[0mself\u001b[0m\u001b[0;34m.\u001b[0m\u001b[0mlog\u001b[0m\u001b[0;34m.\u001b[0m\u001b[0mwarning\u001b[0m\u001b[0;34m(\u001b[0m\u001b[0;34m\"Invalid Message:\"\u001b[0m\u001b[0;34m,\u001b[0m \u001b[0mexc_info\u001b[0m\u001b[0;34m=\u001b[0m\u001b[0;32mTrue\u001b[0m\u001b[0;34m)\u001b[0m\u001b[0;34m\u001b[0m\u001b[0;34m\u001b[0m\u001b[0m\n",
            "\u001b[0;31mKeyboardInterrupt\u001b[0m: Interrupted by user"
          ]
        }
      ]
    },
    {
      "cell_type": "markdown",
      "source": [
        "# Nova seção"
      ],
      "metadata": {
        "id": "mjreBddXXF2Q"
      }
    },
    {
      "cell_type": "markdown",
      "source": [
        "# CONTROLE DE ESTOQUE"
      ],
      "metadata": {
        "id": "1CK9o1i35fRK"
      }
    }
  ]
}